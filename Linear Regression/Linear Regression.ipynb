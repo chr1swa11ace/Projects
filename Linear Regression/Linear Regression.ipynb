{
 "cells": [
  {
   "cell_type": "code",
   "execution_count": 7,
   "metadata": {},
   "outputs": [],
   "source": [
    "import numpy as np\n",
    "import pandas as pd\n",
    "import matplotlib.pyplot as plt\n",
    "import os\n",
    "from sklearn.linear_model import LinearRegression # linear regression\n",
    "import statsmodels.formula.api as smf # regression modeling\n",
    "from statsmodels.stats.outliers_influence import variance_inflation_factor # VIF"
   ]
  },
  {
   "cell_type": "code",
   "execution_count": 8,
   "metadata": {},
   "outputs": [],
   "source": [
    "df = pd.read_csv('/workspaces/CourseWork/ZooVisitSpending.csv') #read the data in to a pandas dataframe"
   ]
  },
  {
   "cell_type": "code",
   "execution_count": 9,
   "metadata": {},
   "outputs": [
    {
     "data": {
      "text/html": [
       "<div>\n",
       "<style scoped>\n",
       "    .dataframe tbody tr th:only-of-type {\n",
       "        vertical-align: middle;\n",
       "    }\n",
       "\n",
       "    .dataframe tbody tr th {\n",
       "        vertical-align: top;\n",
       "    }\n",
       "\n",
       "    .dataframe thead th {\n",
       "        text-align: right;\n",
       "    }\n",
       "</style>\n",
       "<table border=\"1\" class=\"dataframe\">\n",
       "  <thead>\n",
       "    <tr style=\"text-align: right;\">\n",
       "      <th></th>\n",
       "      <th>VisitSpending</th>\n",
       "      <th>PartySize</th>\n",
       "      <th>MilesFromZoo</th>\n",
       "      <th>Member</th>\n",
       "    </tr>\n",
       "  </thead>\n",
       "  <tbody>\n",
       "    <tr>\n",
       "      <th>VisitSpending</th>\n",
       "      <td>1.00</td>\n",
       "      <td>0.32</td>\n",
       "      <td>0.77</td>\n",
       "      <td>-0.09</td>\n",
       "    </tr>\n",
       "    <tr>\n",
       "      <th>PartySize</th>\n",
       "      <td>0.32</td>\n",
       "      <td>1.00</td>\n",
       "      <td>-0.08</td>\n",
       "      <td>0.10</td>\n",
       "    </tr>\n",
       "    <tr>\n",
       "      <th>MilesFromZoo</th>\n",
       "      <td>0.77</td>\n",
       "      <td>-0.08</td>\n",
       "      <td>1.00</td>\n",
       "      <td>0.02</td>\n",
       "    </tr>\n",
       "    <tr>\n",
       "      <th>Member</th>\n",
       "      <td>-0.09</td>\n",
       "      <td>0.10</td>\n",
       "      <td>0.02</td>\n",
       "      <td>1.00</td>\n",
       "    </tr>\n",
       "  </tbody>\n",
       "</table>\n",
       "</div>"
      ],
      "text/plain": [
       "               VisitSpending  PartySize  MilesFromZoo  Member\n",
       "VisitSpending           1.00       0.32          0.77   -0.09\n",
       "PartySize               0.32       1.00         -0.08    0.10\n",
       "MilesFromZoo            0.77      -0.08          1.00    0.02\n",
       "Member                 -0.09       0.10          0.02    1.00"
      ]
     },
     "execution_count": 9,
     "metadata": {},
     "output_type": "execute_result"
    }
   ],
   "source": [
    "df.corr().round(2) # display a correlation matrix"
   ]
  },
  {
   "cell_type": "code",
   "execution_count": 10,
   "metadata": {},
   "outputs": [
    {
     "data": {
      "text/html": [
       "<table class=\"simpletable\">\n",
       "<caption>OLS Regression Results</caption>\n",
       "<tr>\n",
       "  <th>Dep. Variable:</th>      <td>VisitSpending</td>  <th>  R-squared:         </th> <td>   0.765</td>\n",
       "</tr>\n",
       "<tr>\n",
       "  <th>Model:</th>                   <td>OLS</td>       <th>  Adj. R-squared:    </th> <td>   0.759</td>\n",
       "</tr>\n",
       "<tr>\n",
       "  <th>Method:</th>             <td>Least Squares</td>  <th>  F-statistic:       </th> <td>   131.3</td>\n",
       "</tr>\n",
       "<tr>\n",
       "  <th>Date:</th>             <td>Mon, 25 Sep 2023</td> <th>  Prob (F-statistic):</th> <td>6.91e-38</td>\n",
       "</tr>\n",
       "<tr>\n",
       "  <th>Time:</th>                 <td>20:35:24</td>     <th>  Log-Likelihood:    </th> <td> -574.96</td>\n",
       "</tr>\n",
       "<tr>\n",
       "  <th>No. Observations:</th>      <td>   125</td>      <th>  AIC:               </th> <td>   1158.</td>\n",
       "</tr>\n",
       "<tr>\n",
       "  <th>Df Residuals:</th>          <td>   121</td>      <th>  BIC:               </th> <td>   1169.</td>\n",
       "</tr>\n",
       "<tr>\n",
       "  <th>Df Model:</th>              <td>     3</td>      <th>                     </th>     <td> </td>   \n",
       "</tr>\n",
       "<tr>\n",
       "  <th>Covariance Type:</th>      <td>nonrobust</td>    <th>                     </th>     <td> </td>   \n",
       "</tr>\n",
       "</table>\n",
       "<table class=\"simpletable\">\n",
       "<tr>\n",
       "        <td></td>          <th>coef</th>     <th>std err</th>      <th>t</th>      <th>P>|t|</th>  <th>[0.025</th>    <th>0.975]</th>  \n",
       "</tr>\n",
       "<tr>\n",
       "  <th>Intercept</th>    <td>    0.2214</td> <td>    6.491</td> <td>    0.034</td> <td> 0.973</td> <td>  -12.628</td> <td>   13.071</td>\n",
       "</tr>\n",
       "<tr>\n",
       "  <th>PartySize</th>    <td>    9.1362</td> <td>    1.018</td> <td>    8.979</td> <td> 0.000</td> <td>    7.122</td> <td>   11.151</td>\n",
       "</tr>\n",
       "<tr>\n",
       "  <th>MilesFromZoo</th> <td>    0.8889</td> <td>    0.049</td> <td>   18.272</td> <td> 0.000</td> <td>    0.793</td> <td>    0.985</td>\n",
       "</tr>\n",
       "<tr>\n",
       "  <th>Member</th>       <td>  -14.9073</td> <td>    4.583</td> <td>   -3.253</td> <td> 0.001</td> <td>  -23.981</td> <td>   -5.834</td>\n",
       "</tr>\n",
       "</table>\n",
       "<table class=\"simpletable\">\n",
       "<tr>\n",
       "  <th>Omnibus:</th>       <td> 0.850</td> <th>  Durbin-Watson:     </th> <td>   1.913</td>\n",
       "</tr>\n",
       "<tr>\n",
       "  <th>Prob(Omnibus):</th> <td> 0.654</td> <th>  Jarque-Bera (JB):  </th> <td>   0.872</td>\n",
       "</tr>\n",
       "<tr>\n",
       "  <th>Skew:</th>          <td> 0.006</td> <th>  Prob(JB):          </th> <td>   0.647</td>\n",
       "</tr>\n",
       "<tr>\n",
       "  <th>Kurtosis:</th>      <td> 2.591</td> <th>  Cond. No.          </th> <td>    257.</td>\n",
       "</tr>\n",
       "</table><br/><br/>Notes:<br/>[1] Standard Errors assume that the covariance matrix of the errors is correctly specified."
      ],
      "text/latex": [
       "\\begin{center}\n",
       "\\begin{tabular}{lclc}\n",
       "\\toprule\n",
       "\\textbf{Dep. Variable:}    &  VisitSpending   & \\textbf{  R-squared:         } &     0.765   \\\\\n",
       "\\textbf{Model:}            &       OLS        & \\textbf{  Adj. R-squared:    } &     0.759   \\\\\n",
       "\\textbf{Method:}           &  Least Squares   & \\textbf{  F-statistic:       } &     131.3   \\\\\n",
       "\\textbf{Date:}             & Mon, 25 Sep 2023 & \\textbf{  Prob (F-statistic):} &  6.91e-38   \\\\\n",
       "\\textbf{Time:}             &     20:35:24     & \\textbf{  Log-Likelihood:    } &   -574.96   \\\\\n",
       "\\textbf{No. Observations:} &         125      & \\textbf{  AIC:               } &     1158.   \\\\\n",
       "\\textbf{Df Residuals:}     &         121      & \\textbf{  BIC:               } &     1169.   \\\\\n",
       "\\textbf{Df Model:}         &           3      & \\textbf{                     } &             \\\\\n",
       "\\textbf{Covariance Type:}  &    nonrobust     & \\textbf{                     } &             \\\\\n",
       "\\bottomrule\n",
       "\\end{tabular}\n",
       "\\begin{tabular}{lcccccc}\n",
       "                      & \\textbf{coef} & \\textbf{std err} & \\textbf{t} & \\textbf{P$> |$t$|$} & \\textbf{[0.025} & \\textbf{0.975]}  \\\\\n",
       "\\midrule\n",
       "\\textbf{Intercept}    &       0.2214  &        6.491     &     0.034  &         0.973        &      -12.628    &       13.071     \\\\\n",
       "\\textbf{PartySize}    &       9.1362  &        1.018     &     8.979  &         0.000        &        7.122    &       11.151     \\\\\n",
       "\\textbf{MilesFromZoo} &       0.8889  &        0.049     &    18.272  &         0.000        &        0.793    &        0.985     \\\\\n",
       "\\textbf{Member}       &     -14.9073  &        4.583     &    -3.253  &         0.001        &      -23.981    &       -5.834     \\\\\n",
       "\\bottomrule\n",
       "\\end{tabular}\n",
       "\\begin{tabular}{lclc}\n",
       "\\textbf{Omnibus:}       &  0.850 & \\textbf{  Durbin-Watson:     } &    1.913  \\\\\n",
       "\\textbf{Prob(Omnibus):} &  0.654 & \\textbf{  Jarque-Bera (JB):  } &    0.872  \\\\\n",
       "\\textbf{Skew:}          &  0.006 & \\textbf{  Prob(JB):          } &    0.647  \\\\\n",
       "\\textbf{Kurtosis:}      &  2.591 & \\textbf{  Cond. No.          } &     257.  \\\\\n",
       "\\bottomrule\n",
       "\\end{tabular}\n",
       "%\\caption{OLS Regression Results}\n",
       "\\end{center}\n",
       "\n",
       "Notes: \\newline\n",
       " [1] Standard Errors assume that the covariance matrix of the errors is correctly specified."
      ],
      "text/plain": [
       "<class 'statsmodels.iolib.summary.Summary'>\n",
       "\"\"\"\n",
       "                            OLS Regression Results                            \n",
       "==============================================================================\n",
       "Dep. Variable:          VisitSpending   R-squared:                       0.765\n",
       "Model:                            OLS   Adj. R-squared:                  0.759\n",
       "Method:                 Least Squares   F-statistic:                     131.3\n",
       "Date:                Mon, 25 Sep 2023   Prob (F-statistic):           6.91e-38\n",
       "Time:                        20:35:24   Log-Likelihood:                -574.96\n",
       "No. Observations:                 125   AIC:                             1158.\n",
       "Df Residuals:                     121   BIC:                             1169.\n",
       "Df Model:                           3                                         \n",
       "Covariance Type:            nonrobust                                         \n",
       "================================================================================\n",
       "                   coef    std err          t      P>|t|      [0.025      0.975]\n",
       "--------------------------------------------------------------------------------\n",
       "Intercept        0.2214      6.491      0.034      0.973     -12.628      13.071\n",
       "PartySize        9.1362      1.018      8.979      0.000       7.122      11.151\n",
       "MilesFromZoo     0.8889      0.049     18.272      0.000       0.793       0.985\n",
       "Member         -14.9073      4.583     -3.253      0.001     -23.981      -5.834\n",
       "==============================================================================\n",
       "Omnibus:                        0.850   Durbin-Watson:                   1.913\n",
       "Prob(Omnibus):                  0.654   Jarque-Bera (JB):                0.872\n",
       "Skew:                           0.006   Prob(JB):                        0.647\n",
       "Kurtosis:                       2.591   Cond. No.                         257.\n",
       "==============================================================================\n",
       "\n",
       "Notes:\n",
       "[1] Standard Errors assume that the covariance matrix of the errors is correctly specified.\n",
       "\"\"\""
      ]
     },
     "execution_count": 10,
     "metadata": {},
     "output_type": "execute_result"
    }
   ],
   "source": [
    "#make a linear regression model called zooSpendingModel\n",
    "zooSpendingModel = smf.ols(formula='VisitSpending ~ PartySize + MilesFromZoo + Member', data=df).fit()\n",
    "zooSpendingModel.summary()"
   ]
  },
  {
   "cell_type": "code",
   "execution_count": 11,
   "metadata": {},
   "outputs": [
    {
     "name": "stdout",
     "output_type": "stream",
     "text": [
      "       Variable       VIF  Multicolinearity\n",
      "0     PartySize  2.763759             False\n",
      "1  MilesFromZoo  2.300421             False\n",
      "2        Member  2.426559             False\n"
     ]
    }
   ],
   "source": [
    "formula_vars = zooSpendingModel.model.exog[:, 1:]  # Exclude the intercept\n",
    "vif_data = pd.DataFrame() # set a new empty dataframe called vif_data\n",
    "vif_data[\"Variable\"] = zooSpendingModel.model.exog_names[1:] \n",
    "vif_data[\"VIF\"] = [variance_inflation_factor(formula_vars, i) for i in range(formula_vars.shape[1])]\n",
    "vif_data['Multicolinearity'] = vif_data['VIF'] > 5 #check for values where VIF > 5, signalling multicolinearity\n",
    "print(vif_data)"
   ]
  }
 ],
 "metadata": {
  "kernelspec": {
   "display_name": "Python 3",
   "language": "python",
   "name": "python3"
  },
  "language_info": {
   "codemirror_mode": {
    "name": "ipython",
    "version": 3
   },
   "file_extension": ".py",
   "mimetype": "text/x-python",
   "name": "python",
   "nbconvert_exporter": "python",
   "pygments_lexer": "ipython3",
   "version": "3.10.8"
  },
  "orig_nbformat": 4
 },
 "nbformat": 4,
 "nbformat_minor": 2
}
