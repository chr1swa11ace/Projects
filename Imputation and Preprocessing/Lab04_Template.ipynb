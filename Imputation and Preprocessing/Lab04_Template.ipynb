{
 "cells": [
  {
   "cell_type": "code",
   "execution_count": 1,
   "metadata": {},
   "outputs": [],
   "source": [
    "import pandas as pd\n",
    "import numpy as np\n",
    "import matplotlib.pyplot as plt"
   ]
  },
  {
   "cell_type": "code",
   "execution_count": 2,
   "metadata": {},
   "outputs": [
    {
     "name": "stdout",
     "output_type": "stream",
     "text": [
      "<class 'pandas.core.frame.DataFrame'>\n",
      "RangeIndex: 456 entries, 0 to 455\n",
      "Data columns (total 5 columns):\n",
      " #   Column       Non-Null Count  Dtype  \n",
      "---  ------       --------------  -----  \n",
      " 0   TireID       456 non-null    int64  \n",
      " 1   Position     456 non-null    object \n",
      " 2   UsageMonths  450 non-null    float64\n",
      " 3   TreadDepth   456 non-null    float64\n",
      " 4   Miles        456 non-null    int64  \n",
      "dtypes: float64(2), int64(2), object(1)\n",
      "memory usage: 17.9+ KB\n"
     ]
    },
    {
     "data": {
      "text/html": [
       "<div>\n",
       "<style scoped>\n",
       "    .dataframe tbody tr th:only-of-type {\n",
       "        vertical-align: middle;\n",
       "    }\n",
       "\n",
       "    .dataframe tbody tr th {\n",
       "        vertical-align: top;\n",
       "    }\n",
       "\n",
       "    .dataframe thead th {\n",
       "        text-align: right;\n",
       "    }\n",
       "</style>\n",
       "<table border=\"1\" class=\"dataframe\">\n",
       "  <thead>\n",
       "    <tr style=\"text-align: right;\">\n",
       "      <th></th>\n",
       "      <th>TireID</th>\n",
       "      <th>UsageMonths</th>\n",
       "      <th>TreadDepth</th>\n",
       "      <th>Miles</th>\n",
       "    </tr>\n",
       "  </thead>\n",
       "  <tbody>\n",
       "    <tr>\n",
       "      <th>count</th>\n",
       "      <td>4.560000e+02</td>\n",
       "      <td>450.000000</td>\n",
       "      <td>456.000000</td>\n",
       "      <td>456.000000</td>\n",
       "    </tr>\n",
       "    <tr>\n",
       "      <th>mean</th>\n",
       "      <td>1.128225e+07</td>\n",
       "      <td>23.690444</td>\n",
       "      <td>7.640789</td>\n",
       "      <td>25395.484649</td>\n",
       "    </tr>\n",
       "    <tr>\n",
       "      <th>std</th>\n",
       "      <td>6.129054e+06</td>\n",
       "      <td>31.919611</td>\n",
       "      <td>2.505844</td>\n",
       "      <td>23593.604224</td>\n",
       "    </tr>\n",
       "    <tr>\n",
       "      <th>min</th>\n",
       "      <td>8.044100e+04</td>\n",
       "      <td>1.800000</td>\n",
       "      <td>0.000000</td>\n",
       "      <td>206.000000</td>\n",
       "    </tr>\n",
       "    <tr>\n",
       "      <th>25%</th>\n",
       "      <td>6.559652e+06</td>\n",
       "      <td>10.300000</td>\n",
       "      <td>6.400000</td>\n",
       "      <td>7299.000000</td>\n",
       "    </tr>\n",
       "    <tr>\n",
       "      <th>50%</th>\n",
       "      <td>1.126800e+07</td>\n",
       "      <td>17.200000</td>\n",
       "      <td>8.400000</td>\n",
       "      <td>19237.000000</td>\n",
       "    </tr>\n",
       "    <tr>\n",
       "      <th>75%</th>\n",
       "      <td>1.628981e+07</td>\n",
       "      <td>30.350000</td>\n",
       "      <td>9.500000</td>\n",
       "      <td>37419.000000</td>\n",
       "    </tr>\n",
       "    <tr>\n",
       "      <th>max</th>\n",
       "      <td>2.181757e+07</td>\n",
       "      <td>601.000000</td>\n",
       "      <td>16.700000</td>\n",
       "      <td>107237.000000</td>\n",
       "    </tr>\n",
       "  </tbody>\n",
       "</table>\n",
       "</div>"
      ],
      "text/plain": [
       "             TireID  UsageMonths  TreadDepth          Miles\n",
       "count  4.560000e+02   450.000000  456.000000     456.000000\n",
       "mean   1.128225e+07    23.690444    7.640789   25395.484649\n",
       "std    6.129054e+06    31.919611    2.505844   23593.604224\n",
       "min    8.044100e+04     1.800000    0.000000     206.000000\n",
       "25%    6.559652e+06    10.300000    6.400000    7299.000000\n",
       "50%    1.126800e+07    17.200000    8.400000   19237.000000\n",
       "75%    1.628981e+07    30.350000    9.500000   37419.000000\n",
       "max    2.181757e+07   601.000000   16.700000  107237.000000"
      ]
     },
     "execution_count": 2,
     "metadata": {},
     "output_type": "execute_result"
    }
   ],
   "source": [
    "tireTread1 = pd.read_csv('/workspaces/Projects/Imputation and Preprocessing/TireTread.csv')# Read TireTread.csv into a Pandas data frame called tireTread1\n",
    "tireTread1.info() #display the structure of the dataframe\n",
    "tireTread1.describe() #display summary statistics for the dataframe"
   ]
  },
  {
   "cell_type": "code",
   "execution_count": 3,
   "metadata": {},
   "outputs": [],
   "source": [
    "tireTreadDF2 = tireTread1\n",
    "tireTreadDF2['tireTread2'] = tireTread1['UsageMonths'].fillna(tireTread1['UsageMonths'].mean()) #impute NA values as the mean"
   ]
  },
  {
   "cell_type": "code",
   "execution_count": 4,
   "metadata": {},
   "outputs": [
    {
     "name": "stdout",
     "output_type": "stream",
     "text": [
      "1.7500000000000009 14.149999999999999\n"
     ]
    }
   ],
   "source": [
    "tireTreadDF2['TreadDepth'].quantile([0.25,0.5,0.75]) # Use the quantile function on the TreadDepth column\n",
    "\n",
    "IQR = tireTreadDF2['TreadDepth'].quantile(0.75) - tireTreadDF2['TreadDepth'].quantile(0.25) # Calculate IQR\n",
    "\n",
    "# Calculate the outlier min and max\n",
    "outlierMin = tireTreadDF2['TreadDepth'].quantile(0.25) - (1.5 * IQR)\n",
    "outlierMax = tireTreadDF2['TreadDepth'].quantile(0.75) + (1.5 * IQR)\n",
    "\n",
    "print(outlierMin,outlierMax)# Display the outlier min and max\n"
   ]
  },
  {
   "cell_type": "code",
   "execution_count": 5,
   "metadata": {},
   "outputs": [],
   "source": [
    "# Normalize the UsageMonths column by taking the log of UsageMonths into a new column called LogUsageMonths and store the values in an additional column called normUsageMonths.\n",
    "tireTreadDF2['LogUsageMonths'] = np.log(tireTreadDF2['UsageMonths'])"
   ]
  },
  {
   "cell_type": "code",
   "execution_count": 6,
   "metadata": {},
   "outputs": [],
   "source": [
    "#Discretize TreadDepth into a new column named NeedsReplacing (tires with tread depth of less than or equal to 1.6mm need replacing). \n",
    "tireTreadDF2['NeedsReplacing'] = np.where(tireTreadDF2['TreadDepth'] <= 1.6, 'Yes', 'No')"
   ]
  },
  {
   "cell_type": "code",
   "execution_count": 8,
   "metadata": {},
   "outputs": [
    {
     "data": {
      "image/png": "[encoded data removed]",
      "text/plain": [
       "<Figure size 640x480 with 1 Axes>"
      ]
     },
     "metadata": {},
     "output_type": "display_data"
    }
   ],
   "source": [
    "scatterPlot = plt.scatter(tireTreadDF2['Miles'], tireTreadDF2['TreadDepth'], color = 'darkgray')\n",
    "#  Add a title to the scatter plot, \"Tire Miles and Tread Depth Scatter Plot.\" \n",
    "plt.title('Tire Miles and Tread Depth Scatter Plot')\n",
    "# Add a linear best fit line to the  plot and color it red.\n",
    "plt.plot(np.unique(tireTreadDF2['Miles']), np.poly1d(np.polyfit(tireTreadDF2['Miles'], tireTreadDF2['TreadDepth'], 1))(np.unique(tireTreadDF2['Miles'])), color = 'red')\n",
    "plt.xlabel('Miles')\n",
    "plt.ylabel('Tread Depth')\n",
    "plt.show()\n"
   ]
  }
 ],
 "metadata": {
  "kernelspec": {
   "display_name": "Python 3",
   "language": "python",
   "name": "python3"
  },
  "language_info": {
   "codemirror_mode": {
    "name": "ipython",
    "version": 3
   },
   "file_extension": ".py",
   "mimetype": "text/x-python",
   "name": "python",
   "nbconvert_exporter": "python",
   "pygments_lexer": "ipython3",
   "version": "3.10.8"
  },
  "orig_nbformat": 4
 },
 "nbformat": 4,
 "nbformat_minor": 2
}
